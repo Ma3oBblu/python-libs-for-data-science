{
 "cells": [
  {
   "cell_type": "markdown",
   "source": [
    "# Вычисления с помощью NumPy\n",
    "### Задание 1\n",
    "Импортируйте библиотеку Numpy и дайте ей псевдоним np.\n",
    "Создайте массив Numpy под названием a размером 5x2, то есть состоящий из 5 строк и 2 столбцов.\n",
    "Первый столбец должен содержать числа 1, 2, 3, 3, 1, а второй — числа 6, 8, 11, 10, 7.\n",
    "Будем считать, что каждый столбец это признак, а строка — наблюдение.\n",
    "Затем найдите среднее значение по каждому признаку, используя метод mean массива Numpy.\n",
    "Результат запишите в массив mean_a, в нем должно быть 2 элемента."
   ],
   "metadata": {
    "collapsed": false,
    "pycharm": {
     "name": "#%% md\n"
    }
   }
  },
  {
   "cell_type": "code",
   "execution_count": 1,
   "outputs": [
    {
     "data": {
      "text/plain": "array([[ 1,  6],\n       [ 2,  8],\n       [ 3, 11],\n       [ 3, 10],\n       [ 1,  7]])"
     },
     "execution_count": 1,
     "metadata": {},
     "output_type": "execute_result"
    }
   ],
   "source": [
    "import numpy as np\n",
    "\n",
    "a = np.array([[1, 2, 3, 3, 1],\n",
    "              [6, 8, 11, 10, 7]])\n",
    "a = a.T\n",
    "a"
   ],
   "metadata": {
    "collapsed": false,
    "pycharm": {
     "name": "#%%\n"
    }
   }
  },
  {
   "cell_type": "code",
   "execution_count": 2,
   "outputs": [
    {
     "data": {
      "text/plain": "array([2. , 8.4])"
     },
     "execution_count": 2,
     "metadata": {},
     "output_type": "execute_result"
    }
   ],
   "source": [
    "mean_a = np.mean(a, axis=0)\n",
    "mean_a"
   ],
   "metadata": {
    "collapsed": false,
    "pycharm": {
     "name": "#%%\n"
    }
   }
  },
  {
   "cell_type": "markdown",
   "source": [
    "### Задание 2\n",
    "Вычислите массив a_centered, отняв от значений массива “а” средние значения соответствующих признаков,\n",
    "содержащиеся в массиве mean_a. Вычисление должно производиться в одно действие.\n",
    "Получившийся массив должен иметь размер 5x2."
   ],
   "metadata": {
    "collapsed": false,
    "pycharm": {
     "name": "#%% md\n"
    }
   }
  },
  {
   "cell_type": "code",
   "execution_count": 3,
   "outputs": [
    {
     "data": {
      "text/plain": "array([[-1. , -2.4],\n       [ 0. , -0.4],\n       [ 1. ,  2.6],\n       [ 1. ,  1.6],\n       [-1. , -1.4]])"
     },
     "execution_count": 3,
     "metadata": {},
     "output_type": "execute_result"
    }
   ],
   "source": [
    "a_centered = np.subtract(a, mean_a)\n",
    "a_centered"
   ],
   "metadata": {
    "collapsed": false,
    "pycharm": {
     "name": "#%%\n"
    }
   }
  },
  {
   "cell_type": "markdown",
   "source": [
    "### Задание 3\n",
    "Найдите скалярное произведение столбцов массива a_centered. В результате должна получиться величина a_centered_sp.\n",
    "Затем поделите a_centered_sp на N-1, где N - число наблюдений."
   ],
   "metadata": {
    "collapsed": false,
    "pycharm": {
     "name": "#%% md\n"
    }
   }
  },
  {
   "cell_type": "code",
   "execution_count": 4,
   "outputs": [
    {
     "data": {
      "text/plain": "array([-1.,  0.,  1.,  1., -1.])"
     },
     "execution_count": 4,
     "metadata": {},
     "output_type": "execute_result"
    }
   ],
   "source": [
    "s1 = a_centered[0:, 0:1].flatten()\n",
    "s1"
   ],
   "metadata": {
    "collapsed": false,
    "pycharm": {
     "name": "#%%\n"
    }
   }
  },
  {
   "cell_type": "code",
   "execution_count": 5,
   "outputs": [
    {
     "data": {
      "text/plain": "array([-2.4, -0.4,  2.6,  1.6, -1.4])"
     },
     "execution_count": 5,
     "metadata": {},
     "output_type": "execute_result"
    }
   ],
   "source": [
    "s2 = a_centered[0:, 1:].flatten()\n",
    "s2"
   ],
   "metadata": {
    "collapsed": false,
    "pycharm": {
     "name": "#%%\n"
    }
   }
  },
  {
   "cell_type": "code",
   "execution_count": 6,
   "outputs": [
    {
     "data": {
      "text/plain": "8.0"
     },
     "execution_count": 6,
     "metadata": {},
     "output_type": "execute_result"
    }
   ],
   "source": [
    "a_centered_sp = s1 @ s2\n",
    "a_centered_sp"
   ],
   "metadata": {
    "collapsed": false,
    "pycharm": {
     "name": "#%%\n"
    }
   }
  },
  {
   "cell_type": "code",
   "execution_count": 7,
   "outputs": [
    {
     "data": {
      "text/plain": "2.0"
     },
     "execution_count": 7,
     "metadata": {},
     "output_type": "execute_result"
    }
   ],
   "source": [
    "result1 = a_centered_sp/(5-1)\n",
    "result1"
   ],
   "metadata": {
    "collapsed": false,
    "pycharm": {
     "name": "#%%\n"
    }
   }
  },
  {
   "cell_type": "markdown",
   "source": [
    "### Задание 4**\n",
    "Число, которое мы получили в конце задания 3 является ковариацией двух признаков, содержащихся в массиве “а”.\n",
    "В задании 4 мы делили сумму произведений центрированных признаков на N-1, а не на N,\n",
    "поэтому полученная нами величина является несмещенной оценкой ковариации.\n",
    "Подробнее узнать о ковариации можно здесь: Выборочная ковариация и выборочная дисперсия — Студопедия\n",
    "В этом задании проверьте получившееся число, вычислив ковариацию еще одним способом - с помощью функции np.cov.\n",
    "В качестве аргумента m функция np.cov должна принимать транспонированный массив “a”.\n",
    "В получившейся ковариационной матрице (массив Numpy размером 2x2) искомое значение ковариации\n",
    "будет равно элементу в строке с индексом 0 и столбце с индексом 1."
   ],
   "metadata": {
    "collapsed": false,
    "pycharm": {
     "name": "#%% md\n"
    }
   }
  },
  {
   "cell_type": "code",
   "execution_count": 8,
   "metadata": {
    "collapsed": true
   },
   "outputs": [
    {
     "data": {
      "text/plain": "2.0"
     },
     "execution_count": 8,
     "metadata": {},
     "output_type": "execute_result"
    }
   ],
   "source": [
    "cov_result = np.cov(a.T)\n",
    "result2 = cov_result[0][1]\n",
    "result2"
   ]
  },
  {
   "cell_type": "markdown",
   "source": [
    "# Работы с данными в Pandas\n",
    "### Задание 1\n",
    "Импортируйте библиотеку Pandas и дайте ей псевдоним pd.\n",
    "Создайте датафрейм authors со столбцами author_id и author_name, в которых соответственно содержатся данные:\n",
    "```\n",
    "[1, 2, 3] и ['Тургенев', 'Чехов', 'Островский']\n",
    "```\n",
    "\n",
    "Затем создайте датафрейм book cо столбцами author_id, book_title и price, в которых соответственно содержатся данные:\n",
    "```\n",
    "[1, 1, 1, 2, 2, 3, 3],\n",
    "['Отцы и дети', 'Рудин', 'Дворянское гнездо', 'Толстый и тонкий', 'Дама с собачкой', 'Гроза', 'Таланты и поклонники'],\n",
    "[450, 300, 350, 500, 450, 370, 290]\n",
    "```"
   ],
   "metadata": {
    "collapsed": false,
    "pycharm": {
     "name": "#%% md\n"
    }
   }
  },
  {
   "cell_type": "code",
   "execution_count": 9,
   "outputs": [
    {
     "data": {
      "text/plain": "   author_id author_name\n0          1    Тургенев\n1          2       Чехов\n2          3  Островский",
      "text/html": "<div>\n<style scoped>\n    .dataframe tbody tr th:only-of-type {\n        vertical-align: middle;\n    }\n\n    .dataframe tbody tr th {\n        vertical-align: top;\n    }\n\n    .dataframe thead th {\n        text-align: right;\n    }\n</style>\n<table border=\"1\" class=\"dataframe\">\n  <thead>\n    <tr style=\"text-align: right;\">\n      <th></th>\n      <th>author_id</th>\n      <th>author_name</th>\n    </tr>\n  </thead>\n  <tbody>\n    <tr>\n      <th>0</th>\n      <td>1</td>\n      <td>Тургенев</td>\n    </tr>\n    <tr>\n      <th>1</th>\n      <td>2</td>\n      <td>Чехов</td>\n    </tr>\n    <tr>\n      <th>2</th>\n      <td>3</td>\n      <td>Островский</td>\n    </tr>\n  </tbody>\n</table>\n</div>"
     },
     "execution_count": 9,
     "metadata": {},
     "output_type": "execute_result"
    }
   ],
   "source": [
    "import pandas as pd\n",
    "\n",
    "a = {\n",
    "    \"author_id\": [1, 2, 3],\n",
    "    \"author_name\": ['Тургенев', 'Чехов', 'Островский']\n",
    "}\n",
    "\n",
    "authors = pd.DataFrame(a)\n",
    "authors"
   ],
   "metadata": {
    "collapsed": false,
    "pycharm": {
     "name": "#%%\n"
    }
   }
  },
  {
   "cell_type": "code",
   "execution_count": 10,
   "outputs": [
    {
     "data": {
      "text/plain": "   author_id            book_title  price\n0          1           Отцы и дети    450\n1          1                 Рудин    300\n2          1     Дворянское гнездо    350\n3          2      Толстый и тонкий    500\n4          2       Дама с собачкой    450\n5          3                 Гроза    370\n6          3  Таланты и поклонники    290",
      "text/html": "<div>\n<style scoped>\n    .dataframe tbody tr th:only-of-type {\n        vertical-align: middle;\n    }\n\n    .dataframe tbody tr th {\n        vertical-align: top;\n    }\n\n    .dataframe thead th {\n        text-align: right;\n    }\n</style>\n<table border=\"1\" class=\"dataframe\">\n  <thead>\n    <tr style=\"text-align: right;\">\n      <th></th>\n      <th>author_id</th>\n      <th>book_title</th>\n      <th>price</th>\n    </tr>\n  </thead>\n  <tbody>\n    <tr>\n      <th>0</th>\n      <td>1</td>\n      <td>Отцы и дети</td>\n      <td>450</td>\n    </tr>\n    <tr>\n      <th>1</th>\n      <td>1</td>\n      <td>Рудин</td>\n      <td>300</td>\n    </tr>\n    <tr>\n      <th>2</th>\n      <td>1</td>\n      <td>Дворянское гнездо</td>\n      <td>350</td>\n    </tr>\n    <tr>\n      <th>3</th>\n      <td>2</td>\n      <td>Толстый и тонкий</td>\n      <td>500</td>\n    </tr>\n    <tr>\n      <th>4</th>\n      <td>2</td>\n      <td>Дама с собачкой</td>\n      <td>450</td>\n    </tr>\n    <tr>\n      <th>5</th>\n      <td>3</td>\n      <td>Гроза</td>\n      <td>370</td>\n    </tr>\n    <tr>\n      <th>6</th>\n      <td>3</td>\n      <td>Таланты и поклонники</td>\n      <td>290</td>\n    </tr>\n  </tbody>\n</table>\n</div>"
     },
     "execution_count": 10,
     "metadata": {},
     "output_type": "execute_result"
    }
   ],
   "source": [
    "b = {\n",
    "    \"author_id\": [1, 1, 1, 2, 2, 3, 3],\n",
    "    \"book_title\": ['Отцы и дети', 'Рудин', 'Дворянское гнездо', 'Толстый и тонкий', 'Дама с собачкой', 'Гроза', 'Таланты и поклонники'],\n",
    "    \"price\": [450, 300, 350, 500, 450, 370, 290],\n",
    "}\n",
    "book = pd.DataFrame(b)\n",
    "book"
   ],
   "metadata": {
    "collapsed": false,
    "pycharm": {
     "name": "#%%\n"
    }
   }
  },
  {
   "cell_type": "markdown",
   "source": [
    "### Задание 2\n",
    "Получите датафрейм authors_price, соединив датафреймы authors и books по полю author_id."
   ],
   "metadata": {
    "collapsed": false
   }
  },
  {
   "cell_type": "code",
   "execution_count": 11,
   "outputs": [
    {
     "data": {
      "text/plain": "   author_id author_name            book_title  price\n0          1    Тургенев           Отцы и дети    450\n1          1    Тургенев                 Рудин    300\n2          1    Тургенев     Дворянское гнездо    350\n3          2       Чехов      Толстый и тонкий    500\n4          2       Чехов       Дама с собачкой    450\n5          3  Островский                 Гроза    370\n6          3  Островский  Таланты и поклонники    290",
      "text/html": "<div>\n<style scoped>\n    .dataframe tbody tr th:only-of-type {\n        vertical-align: middle;\n    }\n\n    .dataframe tbody tr th {\n        vertical-align: top;\n    }\n\n    .dataframe thead th {\n        text-align: right;\n    }\n</style>\n<table border=\"1\" class=\"dataframe\">\n  <thead>\n    <tr style=\"text-align: right;\">\n      <th></th>\n      <th>author_id</th>\n      <th>author_name</th>\n      <th>book_title</th>\n      <th>price</th>\n    </tr>\n  </thead>\n  <tbody>\n    <tr>\n      <th>0</th>\n      <td>1</td>\n      <td>Тургенев</td>\n      <td>Отцы и дети</td>\n      <td>450</td>\n    </tr>\n    <tr>\n      <th>1</th>\n      <td>1</td>\n      <td>Тургенев</td>\n      <td>Рудин</td>\n      <td>300</td>\n    </tr>\n    <tr>\n      <th>2</th>\n      <td>1</td>\n      <td>Тургенев</td>\n      <td>Дворянское гнездо</td>\n      <td>350</td>\n    </tr>\n    <tr>\n      <th>3</th>\n      <td>2</td>\n      <td>Чехов</td>\n      <td>Толстый и тонкий</td>\n      <td>500</td>\n    </tr>\n    <tr>\n      <th>4</th>\n      <td>2</td>\n      <td>Чехов</td>\n      <td>Дама с собачкой</td>\n      <td>450</td>\n    </tr>\n    <tr>\n      <th>5</th>\n      <td>3</td>\n      <td>Островский</td>\n      <td>Гроза</td>\n      <td>370</td>\n    </tr>\n    <tr>\n      <th>6</th>\n      <td>3</td>\n      <td>Островский</td>\n      <td>Таланты и поклонники</td>\n      <td>290</td>\n    </tr>\n  </tbody>\n</table>\n</div>"
     },
     "execution_count": 11,
     "metadata": {},
     "output_type": "execute_result"
    }
   ],
   "source": [
    "authors_price = pd.merge(authors, book, on='author_id', how='inner')\n",
    "authors_price"
   ],
   "metadata": {
    "collapsed": false,
    "pycharm": {
     "name": "#%%\n"
    }
   }
  },
  {
   "cell_type": "markdown",
   "source": [
    "### Задание 3\n",
    "Создайте датафрейм top5, в котором содержатся строки из authors_price с пятью самыми дорогими книгами."
   ],
   "metadata": {
    "collapsed": false,
    "pycharm": {
     "name": "#%% md\n"
    }
   }
  },
  {
   "cell_type": "code",
   "execution_count": 12,
   "outputs": [
    {
     "data": {
      "text/plain": "   author_id author_name         book_title  price\n3          2       Чехов   Толстый и тонкий    500\n0          1    Тургенев        Отцы и дети    450\n4          2       Чехов    Дама с собачкой    450\n5          3  Островский              Гроза    370\n2          1    Тургенев  Дворянское гнездо    350",
      "text/html": "<div>\n<style scoped>\n    .dataframe tbody tr th:only-of-type {\n        vertical-align: middle;\n    }\n\n    .dataframe tbody tr th {\n        vertical-align: top;\n    }\n\n    .dataframe thead th {\n        text-align: right;\n    }\n</style>\n<table border=\"1\" class=\"dataframe\">\n  <thead>\n    <tr style=\"text-align: right;\">\n      <th></th>\n      <th>author_id</th>\n      <th>author_name</th>\n      <th>book_title</th>\n      <th>price</th>\n    </tr>\n  </thead>\n  <tbody>\n    <tr>\n      <th>3</th>\n      <td>2</td>\n      <td>Чехов</td>\n      <td>Толстый и тонкий</td>\n      <td>500</td>\n    </tr>\n    <tr>\n      <th>0</th>\n      <td>1</td>\n      <td>Тургенев</td>\n      <td>Отцы и дети</td>\n      <td>450</td>\n    </tr>\n    <tr>\n      <th>4</th>\n      <td>2</td>\n      <td>Чехов</td>\n      <td>Дама с собачкой</td>\n      <td>450</td>\n    </tr>\n    <tr>\n      <th>5</th>\n      <td>3</td>\n      <td>Островский</td>\n      <td>Гроза</td>\n      <td>370</td>\n    </tr>\n    <tr>\n      <th>2</th>\n      <td>1</td>\n      <td>Тургенев</td>\n      <td>Дворянское гнездо</td>\n      <td>350</td>\n    </tr>\n  </tbody>\n</table>\n</div>"
     },
     "execution_count": 12,
     "metadata": {},
     "output_type": "execute_result"
    }
   ],
   "source": [
    "top5 = authors_price.nlargest(5, \"price\")\n",
    "top5"
   ],
   "metadata": {
    "collapsed": false,
    "pycharm": {
     "name": "#%%\n"
    }
   }
  },
  {
   "cell_type": "markdown",
   "source": [
    "### Задание 4\n",
    "Создайте датафрейм authors_stat на основе информации из authors_price. В датафрейме authors_stat должны быть четыре столбца:\n",
    "author_name, min_price, max_price и mean_price,\n",
    "в которых должны содержаться соответственно имя автора, минимальная, максимальная и средняя цена на книги этого автора."
   ],
   "metadata": {
    "collapsed": false,
    "pycharm": {
     "name": "#%% md\n"
    }
   }
  },
  {
   "cell_type": "code",
   "execution_count": 13,
   "outputs": [
    {
     "data": {
      "text/plain": "  author_name  min_price  max_price  mean_price\n0  Островский        290        370  330.000000\n1    Тургенев        300        450  366.666667\n2       Чехов        450        500  475.000000",
      "text/html": "<div>\n<style scoped>\n    .dataframe tbody tr th:only-of-type {\n        vertical-align: middle;\n    }\n\n    .dataframe tbody tr th {\n        vertical-align: top;\n    }\n\n    .dataframe thead th {\n        text-align: right;\n    }\n</style>\n<table border=\"1\" class=\"dataframe\">\n  <thead>\n    <tr style=\"text-align: right;\">\n      <th></th>\n      <th>author_name</th>\n      <th>min_price</th>\n      <th>max_price</th>\n      <th>mean_price</th>\n    </tr>\n  </thead>\n  <tbody>\n    <tr>\n      <th>0</th>\n      <td>Островский</td>\n      <td>290</td>\n      <td>370</td>\n      <td>330.000000</td>\n    </tr>\n    <tr>\n      <th>1</th>\n      <td>Тургенев</td>\n      <td>300</td>\n      <td>450</td>\n      <td>366.666667</td>\n    </tr>\n    <tr>\n      <th>2</th>\n      <td>Чехов</td>\n      <td>450</td>\n      <td>500</td>\n      <td>475.000000</td>\n    </tr>\n  </tbody>\n</table>\n</div>"
     },
     "execution_count": 13,
     "metadata": {},
     "output_type": "execute_result"
    }
   ],
   "source": [
    "groupby = authors_price.groupby(\"author_name\")\n",
    "authors_stat = pd.DataFrame({\n",
    "    \"min_price\": groupby[\"price\"].min(),\n",
    "    \"max_price\": groupby[\"price\"].max(),\n",
    "    \"mean_price\": groupby[\"price\"].mean(),\n",
    "})\n",
    "authors_stat.reset_index(inplace=True)\n",
    "authors_stat\n"
   ],
   "metadata": {
    "collapsed": false,
    "pycharm": {
     "name": "#%%\n"
    }
   }
  },
  {
   "cell_type": "markdown",
   "source": [
    "### Задание 5**\n",
    "Создайте новый столбец в датафрейме authors_price под названием cover,\n",
    "в нем будут располагаться данные о том, какая обложка у данной книги - твердая или мягкая.\n",
    "В этот столбец поместите данные из следующего списка:\n",
    "```\n",
    "['твердая', 'мягкая', 'мягкая', 'твердая', 'твердая', 'мягкая', 'мягкая']\n",
    "```\n",
    "Просмотрите документацию по функции pd. с помощью вопросительного знака.\n",
    "Для каждого автора посчитайте суммарную стоимость книг в твердой и мягкой обложке.\n",
    "Используйте для этого функцию pd.pivot_table.\n",
    "При этом столбцы должны называться \"твердая\" и \"мягкая\", а индексами должны быть фамилии авторов.\n",
    "Пропущенные значения стоимостей заполните нулями, при необходимости загрузите библиотеку Numpy.\n",
    "Назовите полученный датасет book_info и сохраните его в формат pickle под названием \"book_info.pkl\".\n",
    "Затем загрузите из этого файла датафрейм и назовите его book_info2.\n",
    "Удостоверьтесь, что датафреймы book_info и book_info2 идентичны."
   ],
   "metadata": {
    "collapsed": false,
    "pycharm": {
     "name": "#%% md\n"
    }
   }
  }
 ],
 "metadata": {
  "kernelspec": {
   "display_name": "Python 3",
   "language": "python",
   "name": "python3"
  },
  "language_info": {
   "codemirror_mode": {
    "name": "ipython",
    "version": 2
   },
   "file_extension": ".py",
   "mimetype": "text/x-python",
   "name": "python",
   "nbconvert_exporter": "python",
   "pygments_lexer": "ipython2",
   "version": "2.7.6"
  }
 },
 "nbformat": 4,
 "nbformat_minor": 0
}